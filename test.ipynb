{
 "cells": [
  {
   "cell_type": "code",
   "execution_count": 1,
   "id": "c020b8d8",
   "metadata": {
    "ExecuteTime": {
     "end_time": "2021-12-29T06:00:22.415909Z",
     "start_time": "2021-12-29T06:00:20.720129Z"
    }
   },
   "outputs": [],
   "source": [
    "import torch\n",
    "import torch.nn as nn\n",
    "import os\n",
    "import warnings\n",
    "import json\n",
    "import torch.nn.functional as F\n",
    "import torch.optim as optim\n",
    "import configparser\n",
    "from tqdm import tqdm\n",
    "from train_tools import EarlyStopping,get_logger\n",
    "from sklearn.metrics import accuracy_score, f1_score,precision_score,recall_score\n",
    "from transformers import BertTokenizer,Adafactor,MT5ForConditionalGeneration\n",
    "from torch.utils.data.dataloader import DataLoader\n",
    "from data_prepare import data_prepare,process_answer\n",
    "from dataset_and_model import JecT5CombDataset,JecT5Model"
   ]
  },
  {
   "cell_type": "code",
   "execution_count": 48,
   "id": "a807eb54",
   "metadata": {
    "ExecuteTime": {
     "end_time": "2021-12-24T02:02:25.923661Z",
     "start_time": "2021-12-24T02:02:25.919453Z"
    }
   },
   "outputs": [],
   "source": [
    "line = \"1Cats are smarter [sep] than dogs 1[sep] thancsds 1[sep]\"\n",
    "# searchObj = re.search('^.* than', line)\n",
    "searchObj = re.search('^.*(\\[sep\\]) than', line)\n"
   ]
  },
  {
   "cell_type": "code",
   "execution_count": 49,
   "id": "18f53f44",
   "metadata": {
    "ExecuteTime": {
     "end_time": "2021-12-24T02:02:26.109429Z",
     "start_time": "2021-12-24T02:02:26.103396Z"
    }
   },
   "outputs": [
    {
     "data": {
      "text/plain": [
       "'1Cats are smarter [sep] than dogs 1[sep] than'"
      ]
     },
     "execution_count": 49,
     "metadata": {},
     "output_type": "execute_result"
    }
   ],
   "source": [
    "searchObj.group(0)"
   ]
  },
  {
   "cell_type": "code",
   "execution_count": 80,
   "id": "1beacab0",
   "metadata": {
    "ExecuteTime": {
     "end_time": "2021-12-23T13:45:17.295471Z",
     "start_time": "2021-12-23T13:45:17.290910Z"
    }
   },
   "outputs": [],
   "source": [
    "ss = 'adafasw12314egrdf5236qew'\n",
    "num = re.search('\\d+',ss)"
   ]
  },
  {
   "cell_type": "code",
   "execution_count": 81,
   "id": "197bdd33",
   "metadata": {
    "ExecuteTime": {
     "end_time": "2021-12-23T13:45:17.551051Z",
     "start_time": "2021-12-23T13:45:17.546627Z"
    }
   },
   "outputs": [
    {
     "data": {
      "text/plain": [
       "<re.Match object; span=(7, 12), match='12314'>"
      ]
     },
     "execution_count": 81,
     "metadata": {},
     "output_type": "execute_result"
    }
   ],
   "source": [
    "num"
   ]
  },
  {
   "cell_type": "code",
   "execution_count": 133,
   "id": "38be3914",
   "metadata": {
    "ExecuteTime": {
     "end_time": "2021-12-23T13:58:03.197707Z",
     "start_time": "2021-12-23T13:58:03.191485Z"
    }
   },
   "outputs": [
    {
     "data": {
      "text/plain": [
       "['1Cats are smarter ', ' than dogs 1', ' ']"
      ]
     },
     "execution_count": 133,
     "metadata": {},
     "output_type": "execute_result"
    }
   ],
   "source": [
    "line.split('[sep]')"
   ]
  },
  {
   "cell_type": "code",
   "execution_count": 50,
   "id": "ea56010c",
   "metadata": {
    "ExecuteTime": {
     "end_time": "2021-12-24T03:21:40.814251Z",
     "start_time": "2021-12-24T03:21:40.809815Z"
    }
   },
   "outputs": [
    {
     "name": "stdout",
     "output_type": "stream",
     "text": [
      "1\n"
     ]
    }
   ],
   "source": [
    "try:\n",
    "    a==sf\n",
    "except:\n",
    "    print(1)"
   ]
  },
  {
   "cell_type": "code",
   "execution_count": 2,
   "id": "a84fa15d",
   "metadata": {
    "ExecuteTime": {
     "end_time": "2021-12-27T09:17:25.275534Z",
     "start_time": "2021-12-27T09:17:09.023889Z"
    }
   },
   "outputs": [
    {
     "name": "stderr",
     "output_type": "stream",
     "text": [
      "The tokenizer class you load from this checkpoint is not the same type as the class this function is called from. It may result in unexpected tokenization. \n",
      "The tokenizer class you load from this checkpoint is 'BartTokenizer'. \n",
      "The class this function is called from is 'BertTokenizer'.\n"
     ]
    }
   ],
   "source": [
    "tokenizer = BertTokenizer.from_pretrained(\"fnlp/bart-large-chinese\")\n",
    "model = BartForConditionalGeneration.from_pretrained(\"fnlp/bart-large-chinese\")"
   ]
  },
  {
   "cell_type": "code",
   "execution_count": 27,
   "id": "b9698c84",
   "metadata": {
    "ExecuteTime": {
     "end_time": "2021-12-27T09:30:13.409218Z",
     "start_time": "2021-12-27T09:30:13.406072Z"
    }
   },
   "outputs": [],
   "source": [
    "# a = '[unused1]手动阀[unused2]啊萨芬[unused3]'\n",
    "a = '!'\n",
    "tk = tokenizer(a,return_tensors='pt')"
   ]
  },
  {
   "cell_type": "code",
   "execution_count": 28,
   "id": "22d021d7",
   "metadata": {
    "ExecuteTime": {
     "end_time": "2021-12-27T09:30:13.967046Z",
     "start_time": "2021-12-27T09:30:13.963035Z"
    }
   },
   "outputs": [
    {
     "data": {
      "text/plain": [
       "tensor([[0, 0, 0]])"
      ]
     },
     "execution_count": 28,
     "metadata": {},
     "output_type": "execute_result"
    }
   ],
   "source": [
    "tk.pop('token_type_ids')"
   ]
  },
  {
   "cell_type": "code",
   "execution_count": 29,
   "id": "ba2e73e9",
   "metadata": {
    "ExecuteTime": {
     "end_time": "2021-12-27T09:30:15.708853Z",
     "start_time": "2021-12-27T09:30:15.704219Z"
    }
   },
   "outputs": [
    {
     "data": {
      "text/plain": [
       "{'input_ids': tensor([[101, 106, 102]]), 'attention_mask': tensor([[1, 1, 1]])}"
      ]
     },
     "execution_count": 29,
     "metadata": {},
     "output_type": "execute_result"
    }
   ],
   "source": [
    "tk"
   ]
  },
  {
   "cell_type": "code",
   "execution_count": 16,
   "id": "0cb366b7",
   "metadata": {
    "ExecuteTime": {
     "end_time": "2021-12-27T02:23:20.428437Z",
     "start_time": "2021-12-27T02:23:20.425649Z"
    }
   },
   "outputs": [],
   "source": [
    "# tk['input_ids'].unsqueeze_(0)\n",
    "# tk['attention_mask'].unsqueeze_(0)"
   ]
  },
  {
   "cell_type": "code",
   "execution_count": 6,
   "id": "efec3407",
   "metadata": {
    "ExecuteTime": {
     "end_time": "2021-12-27T09:17:47.899360Z",
     "start_time": "2021-12-27T09:17:46.415972Z"
    }
   },
   "outputs": [],
   "source": [
    "p = model.generate(**tk)"
   ]
  },
  {
   "cell_type": "code",
   "execution_count": 7,
   "id": "5890be71",
   "metadata": {
    "ExecuteTime": {
     "end_time": "2021-12-27T09:17:52.883273Z",
     "start_time": "2021-12-27T09:17:52.878239Z"
    }
   },
   "outputs": [
    {
     "data": {
      "text/plain": [
       "tensor([[  102,   101,   138,   163, 11316,  8303,  8148,   140,  2797,  1220,\n",
       "          7322,   138,   163, 10287,  8303,  8144,   140,  1557,  5855,   102],\n",
       "        [  102,   101,   138,   163, 11316,  8303,  8148,   140,  2797,  1220,\n",
       "          7322,   138,   163, 10287,  8303,  8144,   140,  1557,  5855,   102]])"
      ]
     },
     "execution_count": 7,
     "metadata": {},
     "output_type": "execute_result"
    }
   ],
   "source": [
    "p"
   ]
  },
  {
   "cell_type": "code",
   "execution_count": 8,
   "id": "b08d0102",
   "metadata": {
    "ExecuteTime": {
     "end_time": "2021-12-27T09:18:11.154726Z",
     "start_time": "2021-12-27T09:18:11.150495Z"
    }
   },
   "outputs": [],
   "source": [
    "ou = tokenizer.decode(p[0], skip_special_tokens=True)"
   ]
  },
  {
   "cell_type": "code",
   "execution_count": 9,
   "id": "b03166f9",
   "metadata": {
    "ExecuteTime": {
     "end_time": "2021-12-27T02:46:42.778602Z",
     "start_time": "2021-12-27T02:46:42.775193Z"
    }
   },
   "outputs": [],
   "source": [
    "o = re.search('\\[ unused1 \\].*?', ou)"
   ]
  },
  {
   "cell_type": "code",
   "execution_count": 10,
   "id": "c0e12509",
   "metadata": {
    "ExecuteTime": {
     "end_time": "2021-12-27T02:46:43.456317Z",
     "start_time": "2021-12-27T02:46:43.451012Z"
    }
   },
   "outputs": [
    {
     "data": {
      "text/plain": [
       "'[ unused1 ]'"
      ]
     },
     "execution_count": 10,
     "metadata": {},
     "output_type": "execute_result"
    }
   ],
   "source": [
    "o.group()"
   ]
  },
  {
   "cell_type": "code",
   "execution_count": 9,
   "id": "bc94293a",
   "metadata": {
    "ExecuteTime": {
     "end_time": "2021-12-27T09:18:13.557800Z",
     "start_time": "2021-12-27T09:18:13.551656Z"
    }
   },
   "outputs": [
    {
     "data": {
      "text/plain": [
       "'[ unused1 ] 手 动 阀 [ uradeed2 ] 啊 萨'"
      ]
     },
     "execution_count": 9,
     "metadata": {},
     "output_type": "execute_result"
    }
   ],
   "source": [
    "ou"
   ]
  },
  {
   "cell_type": "code",
   "execution_count": 17,
   "id": "f99e884a",
   "metadata": {
    "ExecuteTime": {
     "end_time": "2021-12-27T02:49:21.818335Z",
     "start_time": "2021-12-27T02:49:21.814239Z"
    }
   },
   "outputs": [],
   "source": [
    "ps = '[ unused1 ] 手 动 阀 [ unused2 ] 啊 萨'\n",
    "o = re.search('\\[ unused1 \\].*?\\[ unused2 \\]', ps)"
   ]
  },
  {
   "cell_type": "code",
   "execution_count": 18,
   "id": "ecb8697c",
   "metadata": {
    "ExecuteTime": {
     "end_time": "2021-12-27T02:49:22.106087Z",
     "start_time": "2021-12-27T02:49:22.101366Z"
    }
   },
   "outputs": [
    {
     "data": {
      "text/plain": [
       "'[ unused1 ] 手 动 阀 [ unused2 ]'"
      ]
     },
     "execution_count": 18,
     "metadata": {},
     "output_type": "execute_result"
    }
   ],
   "source": [
    "o.group()"
   ]
  },
  {
   "cell_type": "code",
   "execution_count": 10,
   "id": "0d6de165",
   "metadata": {
    "ExecuteTime": {
     "end_time": "2021-12-27T09:18:44.229330Z",
     "start_time": "2021-12-27T09:18:44.225129Z"
    }
   },
   "outputs": [
    {
     "data": {
      "text/plain": [
       "'[unused1]手动阀[uradeed2]啊萨'"
      ]
     },
     "execution_count": 10,
     "metadata": {},
     "output_type": "execute_result"
    }
   ],
   "source": [
    "ou.replace(' ','')"
   ]
  },
  {
   "cell_type": "code",
   "execution_count": 8,
   "id": "48d251b9",
   "metadata": {
    "ExecuteTime": {
     "end_time": "2021-12-28T08:24:51.325704Z",
     "start_time": "2021-12-28T08:24:51.319769Z"
    }
   },
   "outputs": [],
   "source": [
    "target = [[1,1,0,1],[1,0,0,0],[0,1,1,1],[0,1,0,0]]\n",
    "idx = [i for i in range(len(target)) if target[i].count(1)==1]\n"
   ]
  },
  {
   "cell_type": "code",
   "execution_count": 9,
   "id": "025f1eb5",
   "metadata": {
    "ExecuteTime": {
     "end_time": "2021-12-28T08:24:51.595271Z",
     "start_time": "2021-12-28T08:24:51.589901Z"
    }
   },
   "outputs": [
    {
     "data": {
      "text/plain": [
       "[1, 3]"
      ]
     },
     "execution_count": 9,
     "metadata": {},
     "output_type": "execute_result"
    }
   ],
   "source": [
    "idx"
   ]
  },
  {
   "cell_type": "code",
   "execution_count": 20,
   "id": "6baf482c",
   "metadata": {
    "ExecuteTime": {
     "end_time": "2021-12-28T11:25:44.055747Z",
     "start_time": "2021-12-28T11:25:44.053451Z"
    }
   },
   "outputs": [],
   "source": [
    "small = 0\n",
    "start_evaluate = 0 if small else 10\n"
   ]
  },
  {
   "cell_type": "code",
   "execution_count": 21,
   "id": "ec39490c",
   "metadata": {
    "ExecuteTime": {
     "end_time": "2021-12-28T11:25:44.227432Z",
     "start_time": "2021-12-28T11:25:44.222007Z"
    }
   },
   "outputs": [
    {
     "data": {
      "text/plain": [
       "10"
      ]
     },
     "execution_count": 21,
     "metadata": {},
     "output_type": "execute_result"
    }
   ],
   "source": [
    "start_evaluate"
   ]
  },
  {
   "cell_type": "code",
   "execution_count": 2,
   "id": "c05edc24",
   "metadata": {
    "ExecuteTime": {
     "end_time": "2021-12-29T06:00:29.415966Z",
     "start_time": "2021-12-29T06:00:28.957322Z"
    }
   },
   "outputs": [
    {
     "name": "stderr",
     "output_type": "stream",
     "text": [
      "100%|█████████████████████████████████████████████| 1/1 [00:00<00:00, 16.22it/s]\n",
      "100%|█████████████████████████████████████████████| 1/1 [00:00<00:00, 17.01it/s]\n"
     ]
    }
   ],
   "source": [
    "config = configparser.ConfigParser()\n",
    "config.read(\"config.ini\", encoding=\"utf-8\")\n",
    "section_name = 't5'\n",
    "\n",
    "batch_size = config.getint(section_name,'batch_size')\n",
    "# epochs = config.getint(section_name,'epochs')\n",
    "small_sample = 1\n",
    "if small_sample:\n",
    "    epochs = 1\n",
    "else:\n",
    "    epochs = config.getint(section_name,'epochs')\n",
    "device = torch.device('cuda:'+config.get(section_name,'gpu') if torch.cuda.is_available else 'cpu')\n",
    "lr = config.getfloat(section_name,'batch_size')\n",
    "accum_step = config.getint(section_name,'accum_step')\n",
    "patience = config.getint(section_name,'patience')\n",
    "model_name = config.get(section_name,'model_name')\n",
    "model_savepath = config.get(section_name,'model_savepath')\n",
    "predict_savepath = config.get(section_name,'predict_savepath')\n",
    "log_path = config.get(section_name,'log_path')\n",
    "evaluate_path = config.get(section_name,'evaluate_path')\n",
    "\n",
    "train_datapath = config.get('DEFAULT','train_datapath')\n",
    "valid_datapath = config.get('DEFAULT','valid_datapath')\n",
    "test_datapath = config.get('DEFAULT','test_datapath')\n",
    "\n",
    "\n",
    "# In[3]:\n",
    "\n",
    "\n",
    "train_data,valid_data,test_data = data_prepare(train_datapath,test_datapath)\n",
    "\n",
    "\n",
    "# In[4]:\n",
    "\n",
    "\n",
    "tokenizer = BertTokenizer.from_pretrained(model_name)\n",
    "\n",
    "\n",
    "# In[5]:\n",
    "\n",
    "if small_sample:\n",
    "    train_data = JecT5CombDataset(train_data[:40],tokenizer)\n",
    "    valid_data = JecT5CombDataset(valid_data[:40],tokenizer)\n",
    "else:\n",
    "    train_data = JecT5CombDataset(train_data,tokenizer)\n",
    "    valid_data = JecT5CombDataset(valid_data,tokenizer)"
   ]
  },
  {
   "cell_type": "code",
   "execution_count": 3,
   "id": "28031d02",
   "metadata": {
    "ExecuteTime": {
     "end_time": "2021-12-29T06:00:35.566716Z",
     "start_time": "2021-12-29T06:00:35.552291Z"
    }
   },
   "outputs": [
    {
     "data": {
      "text/plain": [
       "tensor([[  101,   100,   133,  9577,  9808,   142,  8231,   142,   121,   135,\n",
       "           165, 11346,  8118,  8217,   133,  9577,  9808,   142,  8231,   142,\n",
       "           122,   135,  8865,   102]])"
      ]
     },
     "execution_count": 3,
     "metadata": {},
     "output_type": "execute_result"
    }
   ],
   "source": [
    "tokenizer('The <extra_id_0> walks in <extra_id_1> park', return_tensors='pt').input_ids\n"
   ]
  },
  {
   "cell_type": "code",
   "execution_count": 5,
   "id": "a04154a7",
   "metadata": {
    "ExecuteTime": {
     "end_time": "2021-12-29T06:01:14.258371Z",
     "start_time": "2021-12-29T06:01:14.250033Z"
    }
   },
   "outputs": [
    {
     "data": {
      "text/plain": [
       "tensor([[  101, 21128,   102]])"
      ]
     },
     "execution_count": 5,
     "metadata": {},
     "output_type": "execute_result"
    }
   ],
   "source": [
    "tokenizer('extra0', return_tensors='pt').input_ids"
   ]
  },
  {
   "cell_type": "code",
   "execution_count": null,
   "id": "544d675c",
   "metadata": {},
   "outputs": [],
   "source": []
  }
 ],
 "metadata": {
  "kernelspec": {
   "display_name": "Python 3 (ipykernel)",
   "language": "python",
   "name": "python3"
  },
  "language_info": {
   "codemirror_mode": {
    "name": "ipython",
    "version": 3
   },
   "file_extension": ".py",
   "mimetype": "text/x-python",
   "name": "python",
   "nbconvert_exporter": "python",
   "pygments_lexer": "ipython3",
   "version": "3.8.12"
  },
  "varInspector": {
   "cols": {
    "lenName": 16,
    "lenType": 16,
    "lenVar": 40
   },
   "kernels_config": {
    "python": {
     "delete_cmd_postfix": "",
     "delete_cmd_prefix": "del ",
     "library": "var_list.py",
     "varRefreshCmd": "print(var_dic_list())"
    },
    "r": {
     "delete_cmd_postfix": ") ",
     "delete_cmd_prefix": "rm(",
     "library": "var_list.r",
     "varRefreshCmd": "cat(var_dic_list()) "
    }
   },
   "types_to_exclude": [
    "module",
    "function",
    "builtin_function_or_method",
    "instance",
    "_Feature"
   ],
   "window_display": false
  }
 },
 "nbformat": 4,
 "nbformat_minor": 5
}
