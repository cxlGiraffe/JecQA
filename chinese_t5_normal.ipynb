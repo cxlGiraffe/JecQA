{
 "cells": [
  {
   "cell_type": "code",
   "execution_count": 1,
   "id": "29b57150",
   "metadata": {
    "ExecuteTime": {
     "end_time": "2021-12-14T08:41:36.222219Z",
     "start_time": "2021-12-14T08:41:34.625134Z"
    }
   },
   "outputs": [],
   "source": [
    "import torch\n",
    "import torch.nn as nn\n",
    "import os\n",
    "import warnings\n",
    "import json\n",
    "import torch.nn.functional as F\n",
    "import torch.optim as optim\n",
    "import configparser\n",
    "from tqdm import tqdm\n",
    "from train_tools import EarlyStopping,get_logger\n",
    "from sklearn.metrics import accuracy_score, f1_score,precision_score,recall_score\n",
    "from transformers import BertTokenizer,Adafactor\n",
    "from torch.utils.data.dataloader import DataLoader\n",
    "from data_prepare import data_prepare,process_answer\n",
    "from dataset_and_model import JecDataset,JecT5Model"
   ]
  },
  {
   "cell_type": "code",
   "execution_count": 2,
   "id": "ea1500b0",
   "metadata": {
    "ExecuteTime": {
     "end_time": "2021-12-14T08:41:36.232108Z",
     "start_time": "2021-12-14T08:41:36.223711Z"
    }
   },
   "outputs": [],
   "source": [
    "config = configparser.ConfigParser()\n",
    "config.read(\"config.ini\", encoding=\"utf-8\")\n",
    "section_name = 't5'\n",
    "\n",
    "batch_size = config.getint(section_name,'batch_size')\n",
    "epochs = config.getint(section_name,'epochs')\n",
    "device = torch.device('cuda:'+config.get(section_name,'gpu') if torch.cuda.is_available else 'cpu')\n",
    "lr = config.getfloat(section_name,'batch_size')\n",
    "accum_step = config.getint(section_name,'accum_step')\n",
    "patience = config.getint(section_name,'patience')\n",
    "model_name = config.get(section_name,'model_name')\n",
    "model_savepath = config.get(section_name,'model_savepath')\n",
    "predict_savepath = config.get(section_name,'predict_savepath')\n",
    "log_path = config.get(section_name,'log_path')\n",
    "train_datapath = config.get('DEFAULT','train_datapath')\n",
    "valid_datapath = config.get('DEFAULT','valid_datapath')\n",
    "test_datapath = config.get('DEFAULT','test_datapath')"
   ]
  },
  {
   "cell_type": "code",
   "execution_count": 3,
   "id": "18789222",
   "metadata": {
    "ExecuteTime": {
     "end_time": "2021-12-14T08:41:36.646302Z",
     "start_time": "2021-12-14T08:41:36.234006Z"
    }
   },
   "outputs": [],
   "source": [
    "train_data,valid_data,test_data = data_prepare(train_datapath,test_datapath)"
   ]
  },
  {
   "cell_type": "code",
   "execution_count": 4,
   "id": "a2c31eab",
   "metadata": {
    "ExecuteTime": {
     "end_time": "2021-12-14T08:41:36.671144Z",
     "start_time": "2021-12-14T08:41:36.647560Z"
    },
    "scrolled": false
   },
   "outputs": [],
   "source": [
    "tokenizer = BertTokenizer.from_pretrained(model_name)"
   ]
  },
  {
   "cell_type": "code",
   "execution_count": 5,
   "id": "b0792185",
   "metadata": {
    "ExecuteTime": {
     "end_time": "2021-12-14T08:42:06.454142Z",
     "start_time": "2021-12-14T08:41:36.672618Z"
    }
   },
   "outputs": [
    {
     "name": "stderr",
     "output_type": "stream",
     "text": [
      "100%|███████████████████████████████████████████| 20/20 [00:26<00:00,  1.33s/it]\n",
      "100%|█████████████████████████████████████████████| 2/2 [00:02<00:00,  1.40s/it]\n"
     ]
    }
   ],
   "source": [
    "train_data = JecDataset(train_data,tokenizer)\n",
    "valid_data = JecDataset(valid_data,tokenizer)\n",
    "train_loader = DataLoader(dataset=train_data,batch_size=batch_size,shuffle=True)\n",
    "valid_loader = DataLoader(valid_data, batch_size=batch_size)"
   ]
  },
  {
   "cell_type": "code",
   "execution_count": 6,
   "id": "a8456466",
   "metadata": {
    "ExecuteTime": {
     "end_time": "2021-12-14T08:42:09.111144Z",
     "start_time": "2021-12-14T08:42:06.455568Z"
    },
    "scrolled": false
   },
   "outputs": [
    {
     "name": "stderr",
     "output_type": "stream",
     "text": [
      "Some weights of the model checkpoint at transformerModels/chinese_t5 were not used when initializing MT5Model: ['lm_head.weight']\n",
      "- This IS expected if you are initializing MT5Model from the checkpoint of a model trained on another task or with another architecture (e.g. initializing a BertForSequenceClassification model from a BertForPreTraining model).\n",
      "- This IS NOT expected if you are initializing MT5Model from the checkpoint of a model that you expect to be exactly identical (initializing a BertForSequenceClassification model from a BertForSequenceClassification model).\n"
     ]
    }
   ],
   "source": [
    "net = JecT5Model(model_name,4)"
   ]
  },
  {
   "cell_type": "code",
   "execution_count": 7,
   "id": "10d4dc6c",
   "metadata": {
    "ExecuteTime": {
     "end_time": "2021-12-14T08:42:09.123497Z",
     "start_time": "2021-12-14T08:42:09.112580Z"
    }
   },
   "outputs": [],
   "source": [
    "def get_metric(target,pred):\n",
    "    acc = accuracy_score(target,pred)\n",
    "    f1 = f1_score(target,pred,average='macro')\n",
    "    precision = precision_score(target,pred,average='macro')\n",
    "    recall = recall_score(target,pred,average='macro')\n",
    "    return acc,f1,precision,recall\n",
    "\n",
    "def train_per_epoch(train_loader,device,model,loss,opt,accum_step,log_per_step=None):\n",
    "    l_sum = 0\n",
    "    for i,batch in enumerate(tqdm(train_loader)):\n",
    "        target = batch['answer'].to(device)\n",
    "        inputs = {key:value.to(device) for key,value in batch.items() if key!='answer' and key!='id'}\n",
    "        out = model(inputs)\n",
    "        l = loss(out,target)\n",
    "        l_sum += l.item()\n",
    "        l = l/accum_step\n",
    "        l.backward()\n",
    "        if (i+1)%accum_step==0 or (i+1)==len(train_loader):\n",
    "            opt.step()\n",
    "            opt.zero_grad()\n",
    "\n",
    "    return l_sum/len(train_loader)\n",
    "\n",
    "def evaluate_per_epoch(valid_loader,device,model,loss):\n",
    "    predicts = []\n",
    "    targets = []\n",
    "    l_sum = 0\n",
    "    with torch.no_grad():\n",
    "        for batch in tqdm(valid_loader):\n",
    "            target = batch['answer'].to(device)\n",
    "            inputs = {key:value.to(device) for key,value in batch.items() if key!='answer' and key!='id'}\n",
    "            out = model(inputs)\n",
    "            l_sum += loss(out,target).item()\n",
    "            targets.append(target.cpu())\n",
    "            predicts.append(out.cpu())\n",
    "            \n",
    "        targets = torch.cat(targets,dim=0)\n",
    "        out = torch.cat(predicts,dim=0)\n",
    "        final_out = torch.where(out>=0.5,1,0)\n",
    "        valid_acc ,valid_f1 ,valid_precision ,valid_recall = get_metric(targets,final_out)\n",
    "\n",
    "    return l_sum/len(valid_loader),valid_acc,valid_precision,valid_recall,valid_f1\n",
    "    \n",
    "def train(train_loader,valid_loader,device,model,epochs,lr,accum_step,logger,log_per_step=None,early_stop=None):\n",
    "    device = device\n",
    "    logger.info(f'train on {device}')\n",
    "    model = model.to(device)\n",
    "    \n",
    "    loss = nn.BCELoss()\n",
    "    opt = Adafactor(model.parameters(), scale_parameter=True, relative_step=True, warmup_init=True, lr=None)\n",
    "    for epoch in range(epochs):\n",
    "        model.train()\n",
    "        train_loss = train_per_epoch(train_loader,device,model,loss,opt,accum_step)\n",
    "        logger.info(f'epoch:{epoch},loss:{train_loss:.5f}')\n",
    "        \n",
    "        model.eval()\n",
    "        warnings.filterwarnings('ignore')\n",
    "        valid_loss,valid_acc,valid_precision,valid_recall,valid_f1 = evaluate_per_epoch(valid_loader,device,model,loss)\n",
    "        logger.info(f'epoch:{epoch},valid_loss:{valid_loss:.5f},valid_acc:{valid_acc:.5f},valid_precision:{valid_precision:.5f},valid_recall:{valid_recall:.5f},valid_f1:{valid_f1:.5f}')\n",
    "        \n",
    "        if early_stop is not None:\n",
    "            stop = early_stop(valid_acc,model)\n",
    "            if stop:\n",
    "                logger.info('Early stopping')\n",
    "                break"
   ]
  },
  {
   "cell_type": "code",
   "execution_count": 8,
   "id": "57927f77",
   "metadata": {
    "ExecuteTime": {
     "end_time": "2021-12-14T08:44:05.418998Z",
     "start_time": "2021-12-14T08:42:09.125043Z"
    },
    "scrolled": true
   },
   "outputs": [
    {
     "name": "stderr",
     "output_type": "stream",
     "text": [
      "2021-12-14 16:42:09,188 - INFO - train on cuda:0\n",
      "  6%|██▏                                     | 356/6353 [01:51<31:10,  3.21it/s]\n"
     ]
    },
    {
     "ename": "KeyboardInterrupt",
     "evalue": "",
     "output_type": "error",
     "traceback": [
      "\u001b[0;31m---------------------------------------------------------------------------\u001b[0m",
      "\u001b[0;31mKeyboardInterrupt\u001b[0m                         Traceback (most recent call last)",
      "\u001b[0;32m/tmp/ipykernel_21013/3856567268.py\u001b[0m in \u001b[0;36m<module>\u001b[0;34m\u001b[0m\n\u001b[1;32m      4\u001b[0m     \u001b[0mos\u001b[0m\u001b[0;34m.\u001b[0m\u001b[0mremove\u001b[0m\u001b[0;34m(\u001b[0m\u001b[0mlog_path\u001b[0m\u001b[0;34m)\u001b[0m\u001b[0;34m\u001b[0m\u001b[0;34m\u001b[0m\u001b[0m\n\u001b[1;32m      5\u001b[0m \u001b[0mlogger\u001b[0m \u001b[0;34m=\u001b[0m \u001b[0mget_logger\u001b[0m\u001b[0;34m(\u001b[0m\u001b[0mlog_path\u001b[0m\u001b[0;34m)\u001b[0m\u001b[0;34m\u001b[0m\u001b[0;34m\u001b[0m\u001b[0m\n\u001b[0;32m----> 6\u001b[0;31m \u001b[0mtrain\u001b[0m\u001b[0;34m(\u001b[0m\u001b[0mtrain_loader\u001b[0m\u001b[0;34m,\u001b[0m\u001b[0mvalid_loader\u001b[0m\u001b[0;34m,\u001b[0m\u001b[0mdevice\u001b[0m\u001b[0;34m,\u001b[0m\u001b[0mnet\u001b[0m\u001b[0;34m,\u001b[0m\u001b[0mepochs\u001b[0m\u001b[0;34m,\u001b[0m\u001b[0mlr\u001b[0m\u001b[0;34m,\u001b[0m\u001b[0maccum_step\u001b[0m\u001b[0;34m,\u001b[0m\u001b[0mlogger\u001b[0m\u001b[0;34m,\u001b[0m\u001b[0mearly_stop\u001b[0m\u001b[0;34m=\u001b[0m\u001b[0mearly_stopping\u001b[0m\u001b[0;34m)\u001b[0m\u001b[0;34m\u001b[0m\u001b[0;34m\u001b[0m\u001b[0m\n\u001b[0m",
      "\u001b[0;32m/tmp/ipykernel_21013/3557089250.py\u001b[0m in \u001b[0;36mtrain\u001b[0;34m(train_loader, valid_loader, device, model, epochs, lr, accum_step, logger, log_per_step, early_stop)\u001b[0m\n\u001b[1;32m     51\u001b[0m     \u001b[0;32mfor\u001b[0m \u001b[0mepoch\u001b[0m \u001b[0;32min\u001b[0m \u001b[0mrange\u001b[0m\u001b[0;34m(\u001b[0m\u001b[0mepochs\u001b[0m\u001b[0;34m)\u001b[0m\u001b[0;34m:\u001b[0m\u001b[0;34m\u001b[0m\u001b[0;34m\u001b[0m\u001b[0m\n\u001b[1;32m     52\u001b[0m         \u001b[0mmodel\u001b[0m\u001b[0;34m.\u001b[0m\u001b[0mtrain\u001b[0m\u001b[0;34m(\u001b[0m\u001b[0;34m)\u001b[0m\u001b[0;34m\u001b[0m\u001b[0;34m\u001b[0m\u001b[0m\n\u001b[0;32m---> 53\u001b[0;31m         \u001b[0mtrain_loss\u001b[0m \u001b[0;34m=\u001b[0m \u001b[0mtrain_per_epoch\u001b[0m\u001b[0;34m(\u001b[0m\u001b[0mtrain_loader\u001b[0m\u001b[0;34m,\u001b[0m\u001b[0mdevice\u001b[0m\u001b[0;34m,\u001b[0m\u001b[0mmodel\u001b[0m\u001b[0;34m,\u001b[0m\u001b[0mloss\u001b[0m\u001b[0;34m,\u001b[0m\u001b[0mopt\u001b[0m\u001b[0;34m,\u001b[0m\u001b[0maccum_step\u001b[0m\u001b[0;34m)\u001b[0m\u001b[0;34m\u001b[0m\u001b[0;34m\u001b[0m\u001b[0m\n\u001b[0m\u001b[1;32m     54\u001b[0m         \u001b[0mlogger\u001b[0m\u001b[0;34m.\u001b[0m\u001b[0minfo\u001b[0m\u001b[0;34m(\u001b[0m\u001b[0;34mf'epoch:{epoch},loss:{train_loss:.5f}'\u001b[0m\u001b[0;34m)\u001b[0m\u001b[0;34m\u001b[0m\u001b[0;34m\u001b[0m\u001b[0m\n\u001b[1;32m     55\u001b[0m \u001b[0;34m\u001b[0m\u001b[0m\n",
      "\u001b[0;32m/tmp/ipykernel_21013/3557089250.py\u001b[0m in \u001b[0;36mtrain_per_epoch\u001b[0;34m(train_loader, device, model, loss, opt, accum_step, log_per_step)\u001b[0m\n\u001b[1;32m     13\u001b[0m         \u001b[0mout\u001b[0m \u001b[0;34m=\u001b[0m \u001b[0mmodel\u001b[0m\u001b[0;34m(\u001b[0m\u001b[0minputs\u001b[0m\u001b[0;34m)\u001b[0m\u001b[0;34m\u001b[0m\u001b[0;34m\u001b[0m\u001b[0m\n\u001b[1;32m     14\u001b[0m         \u001b[0ml\u001b[0m \u001b[0;34m=\u001b[0m \u001b[0mloss\u001b[0m\u001b[0;34m(\u001b[0m\u001b[0mout\u001b[0m\u001b[0;34m,\u001b[0m\u001b[0mtarget\u001b[0m\u001b[0;34m)\u001b[0m\u001b[0;34m\u001b[0m\u001b[0;34m\u001b[0m\u001b[0m\n\u001b[0;32m---> 15\u001b[0;31m         \u001b[0ml_sum\u001b[0m \u001b[0;34m+=\u001b[0m \u001b[0ml\u001b[0m\u001b[0;34m.\u001b[0m\u001b[0mitem\u001b[0m\u001b[0;34m(\u001b[0m\u001b[0;34m)\u001b[0m\u001b[0;34m\u001b[0m\u001b[0;34m\u001b[0m\u001b[0m\n\u001b[0m\u001b[1;32m     16\u001b[0m         \u001b[0ml\u001b[0m \u001b[0;34m=\u001b[0m \u001b[0ml\u001b[0m\u001b[0;34m/\u001b[0m\u001b[0maccum_step\u001b[0m\u001b[0;34m\u001b[0m\u001b[0;34m\u001b[0m\u001b[0m\n\u001b[1;32m     17\u001b[0m         \u001b[0ml\u001b[0m\u001b[0;34m.\u001b[0m\u001b[0mbackward\u001b[0m\u001b[0;34m(\u001b[0m\u001b[0;34m)\u001b[0m\u001b[0;34m\u001b[0m\u001b[0;34m\u001b[0m\u001b[0m\n",
      "\u001b[0;31mKeyboardInterrupt\u001b[0m: "
     ]
    }
   ],
   "source": [
    "early_stopping = EarlyStopping(model_savepath,patience)\n",
    "torch.cuda.empty_cache()\n",
    "if os.path.exists(log_path):\n",
    "    os.remove(log_path)\n",
    "logger = get_logger(log_path)\n",
    "train(train_loader,valid_loader,device,net,epochs,lr,accum_step,logger,early_stop=early_stopping)"
   ]
  },
  {
   "cell_type": "code",
   "execution_count": null,
   "id": "99c05ff6",
   "metadata": {
    "ExecuteTime": {
     "end_time": "2021-12-14T08:44:05.425691Z",
     "start_time": "2021-12-14T08:44:05.425675Z"
    }
   },
   "outputs": [],
   "source": [
    "test_data = JecDataset(test_data,tokenizer)\n",
    "test_loader = DataLoader(test_data, batch_size=batch_size)\n",
    "net.load_state_dict(torch.load(model_savepath))  "
   ]
  },
  {
   "cell_type": "code",
   "execution_count": null,
   "id": "b7711b09",
   "metadata": {
    "ExecuteTime": {
     "end_time": "2021-12-14T08:44:05.426638Z",
     "start_time": "2021-12-14T08:44:05.426623Z"
    }
   },
   "outputs": [],
   "source": [
    "def test(test_loader,device,model):\n",
    "    predicts = []\n",
    "    all_ids = []\n",
    "    model.to(device)\n",
    "    model.eval()\n",
    "    with torch.no_grad():\n",
    "        for batch in tqdm(test_loader):\n",
    "            ids = batch['id']\n",
    "            inputs = {key:value.to(device) for key,value in batch.items() if key!='answer' and key!='id'}\n",
    "            out = model(inputs)\n",
    "            predicts.append(out.cpu())\n",
    "            all_ids.extend(ids)\n",
    "            \n",
    "        out = torch.cat(predicts,dim=0)\n",
    "        final_out = torch.where(out>=0.5,1,0)\n",
    "    return final_out,all_ids"
   ]
  },
  {
   "cell_type": "code",
   "execution_count": null,
   "id": "7fd2a4e1",
   "metadata": {
    "ExecuteTime": {
     "end_time": "2021-12-14T08:44:05.427327Z",
     "start_time": "2021-12-14T08:44:05.427312Z"
    }
   },
   "outputs": [],
   "source": [
    "all_res,all_ids = test(test_loader,device,net)"
   ]
  },
  {
   "cell_type": "code",
   "execution_count": null,
   "id": "aedc5c96",
   "metadata": {
    "ExecuteTime": {
     "end_time": "2021-12-14T08:44:05.428178Z",
     "start_time": "2021-12-14T08:44:05.428163Z"
    }
   },
   "outputs": [],
   "source": [
    "all_res = all_res.tolist()\n",
    "alpha_ans = [process_answer(i) for i in all_res]\n",
    "alpha_ans = [op if len(op)>0 else ['C'] for op in alpha_ans]\n",
    "myres = dict(zip(all_ids,alpha_ans))       "
   ]
  },
  {
   "cell_type": "code",
   "execution_count": null,
   "id": "0e2574af",
   "metadata": {
    "ExecuteTime": {
     "end_time": "2021-12-14T08:44:05.428945Z",
     "start_time": "2021-12-14T08:44:05.428929Z"
    }
   },
   "outputs": [],
   "source": [
    "with open(predict_savepath,'w') as f:\n",
    "    json.dump(myres,f,ensure_ascii=False,indent=4)"
   ]
  }
 ],
 "metadata": {
  "kernelspec": {
   "display_name": "Python 3 (ipykernel)",
   "language": "python",
   "name": "python3"
  },
  "language_info": {
   "codemirror_mode": {
    "name": "ipython",
    "version": 3
   },
   "file_extension": ".py",
   "mimetype": "text/x-python",
   "name": "python",
   "nbconvert_exporter": "python",
   "pygments_lexer": "ipython3",
   "version": "3.8.12"
  },
  "varInspector": {
   "cols": {
    "lenName": 16,
    "lenType": 16,
    "lenVar": 40
   },
   "kernels_config": {
    "python": {
     "delete_cmd_postfix": "",
     "delete_cmd_prefix": "del ",
     "library": "var_list.py",
     "varRefreshCmd": "print(var_dic_list())"
    },
    "r": {
     "delete_cmd_postfix": ") ",
     "delete_cmd_prefix": "rm(",
     "library": "var_list.r",
     "varRefreshCmd": "cat(var_dic_list()) "
    }
   },
   "types_to_exclude": [
    "module",
    "function",
    "builtin_function_or_method",
    "instance",
    "_Feature"
   ],
   "window_display": false
  }
 },
 "nbformat": 4,
 "nbformat_minor": 5
}
