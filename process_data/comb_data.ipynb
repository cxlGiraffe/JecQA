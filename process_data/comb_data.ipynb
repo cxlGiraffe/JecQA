{
 "cells": [
  {
   "cell_type": "code",
   "execution_count": 1,
   "id": "46a916d5",
   "metadata": {
    "ExecuteTime": {
     "end_time": "2021-12-16T11:38:35.126787Z",
     "start_time": "2021-12-16T11:38:35.122881Z"
    }
   },
   "outputs": [],
   "source": [
    "import json\n",
    "import collections"
   ]
  },
  {
   "cell_type": "code",
   "execution_count": 2,
   "id": "751537bd",
   "metadata": {
    "ExecuteTime": {
     "end_time": "2021-12-16T11:38:35.232607Z",
     "start_time": "2021-12-16T11:38:35.128242Z"
    }
   },
   "outputs": [],
   "source": [
    "with open('../data/QA/0_train.json','r') as f:\n",
    "    data = f.readlines()\n",
    "with open('../data/QA/1_train.json','r') as f:\n",
    "    data1 = f.readlines()\n",
    "with open('../data/QA/0_test.json','r') as f:\n",
    "    data2 = f.readlines()\n",
    "with open('../data/QA/1_test.json','r') as f:\n",
    "    data3 = f.readlines()"
   ]
  },
  {
   "cell_type": "code",
   "execution_count": 3,
   "id": "5ec9fe03",
   "metadata": {
    "ExecuteTime": {
     "end_time": "2021-12-16T11:38:35.238963Z",
     "start_time": "2021-12-16T11:38:35.235150Z"
    }
   },
   "outputs": [],
   "source": [
    "train_data = data+data1\n",
    "test_data = data2+data3"
   ]
  },
  {
   "cell_type": "code",
   "execution_count": 4,
   "id": "07043b40",
   "metadata": {
    "ExecuteTime": {
     "end_time": "2021-12-16T11:38:35.262798Z",
     "start_time": "2021-12-16T11:38:35.240375Z"
    }
   },
   "outputs": [
    {
     "data": {
      "text/plain": [
       "(21072, 5289)"
      ]
     },
     "execution_count": 4,
     "metadata": {},
     "output_type": "execute_result"
    }
   ],
   "source": [
    "len(train_data),len(test_data)"
   ]
  },
  {
   "cell_type": "code",
   "execution_count": 5,
   "id": "fb7b6964",
   "metadata": {
    "ExecuteTime": {
     "end_time": "2021-12-16T11:38:35.483670Z",
     "start_time": "2021-12-16T11:38:35.264265Z"
    }
   },
   "outputs": [],
   "source": [
    "train_data = [json.loads(i) for i in train_data]\n",
    "test_data = [json.loads(i) for i in test_data] "
   ]
  },
  {
   "cell_type": "code",
   "execution_count": 6,
   "id": "021e2593",
   "metadata": {
    "ExecuteTime": {
     "end_time": "2021-12-16T11:38:35.493336Z",
     "start_time": "2021-12-16T11:38:35.485352Z"
    }
   },
   "outputs": [],
   "source": [
    "train_data = [i for i in train_data if len(i['answer'])>0]"
   ]
  },
  {
   "cell_type": "code",
   "execution_count": 7,
   "id": "5d2f8aac",
   "metadata": {
    "ExecuteTime": {
     "end_time": "2021-12-16T11:38:35.546327Z",
     "start_time": "2021-12-16T11:38:35.494641Z"
    }
   },
   "outputs": [],
   "source": [
    "for i in train_data:\n",
    "    i['answer'] = [j for j in i['answer'] if j!='。']"
   ]
  },
  {
   "cell_type": "code",
   "execution_count": 8,
   "id": "8c857f79",
   "metadata": {
    "ExecuteTime": {
     "end_time": "2021-12-16T11:38:35.572245Z",
     "start_time": "2021-12-16T11:38:35.548099Z"
    }
   },
   "outputs": [],
   "source": [
    "ans = [''.join(i['answer']) for i in train_data]"
   ]
  },
  {
   "cell_type": "code",
   "execution_count": 9,
   "id": "bed3f73a",
   "metadata": {
    "ExecuteTime": {
     "end_time": "2021-12-16T11:38:35.608367Z",
     "start_time": "2021-12-16T11:38:35.579096Z"
    }
   },
   "outputs": [
    {
     "data": {
      "text/plain": [
       "Counter({'B': 2596,\n",
       "         'D': 2983,\n",
       "         'AB': 762,\n",
       "         'ABC': 1273,\n",
       "         'C': 3020,\n",
       "         'A': 2080,\n",
       "         'ACD': 919,\n",
       "         'CD': 676,\n",
       "         'AC': 756,\n",
       "         'ABD': 1099,\n",
       "         'AD': 747,\n",
       "         'ABCD': 1742,\n",
       "         'BD': 735,\n",
       "         'BC': 774,\n",
       "         'BCD': 895})"
      ]
     },
     "execution_count": 9,
     "metadata": {},
     "output_type": "execute_result"
    }
   ],
   "source": [
    "collections.Counter(ans)"
   ]
  },
  {
   "cell_type": "code",
   "execution_count": 10,
   "id": "427975b4",
   "metadata": {
    "ExecuteTime": {
     "end_time": "2021-12-16T11:38:35.862637Z",
     "start_time": "2021-12-16T11:38:35.609796Z"
    }
   },
   "outputs": [],
   "source": [
    "with open('../data/QA/train_data.json','w') as f:\n",
    "    for i in train_data:\n",
    "        j = json.dumps(i,ensure_ascii=False)\n",
    "        f.write(j+'\\n')"
   ]
  },
  {
   "cell_type": "code",
   "execution_count": 11,
   "id": "b7dd921b",
   "metadata": {
    "ExecuteTime": {
     "end_time": "2021-12-16T11:38:35.921732Z",
     "start_time": "2021-12-16T11:38:35.864471Z"
    }
   },
   "outputs": [],
   "source": [
    "with open('../data/QA/test_data.json','w') as f:\n",
    "    for i in test_data:\n",
    "        j = json.dumps(i,ensure_ascii=False)\n",
    "        f.write(j+'\\n')"
   ]
  },
  {
   "cell_type": "code",
   "execution_count": null,
   "id": "74813a0c",
   "metadata": {},
   "outputs": [],
   "source": []
  }
 ],
 "metadata": {
  "kernelspec": {
   "display_name": "Python 3 (ipykernel)",
   "language": "python",
   "name": "python3"
  },
  "language_info": {
   "codemirror_mode": {
    "name": "ipython",
    "version": 3
   },
   "file_extension": ".py",
   "mimetype": "text/x-python",
   "name": "python",
   "nbconvert_exporter": "python",
   "pygments_lexer": "ipython3",
   "version": "3.8.12"
  },
  "varInspector": {
   "cols": {
    "lenName": 16,
    "lenType": 16,
    "lenVar": 40
   },
   "kernels_config": {
    "python": {
     "delete_cmd_postfix": "",
     "delete_cmd_prefix": "del ",
     "library": "var_list.py",
     "varRefreshCmd": "print(var_dic_list())"
    },
    "r": {
     "delete_cmd_postfix": ") ",
     "delete_cmd_prefix": "rm(",
     "library": "var_list.r",
     "varRefreshCmd": "cat(var_dic_list()) "
    }
   },
   "types_to_exclude": [
    "module",
    "function",
    "builtin_function_or_method",
    "instance",
    "_Feature"
   ],
   "window_display": false
  }
 },
 "nbformat": 4,
 "nbformat_minor": 5
}
